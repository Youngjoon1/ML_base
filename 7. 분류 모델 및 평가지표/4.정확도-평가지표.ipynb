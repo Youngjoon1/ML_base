{
 "cells": [
  {
   "cell_type": "markdown",
   "id": "bcf3a410",
   "metadata": {},
   "source": [
    "### Classification Metric\n",
    "* Metric : 학습을 통해 목표를 얼마나 잘(못) 달성했는지를 나타내는 값을 척도(metric)라고 합니다\n",
    "    - Accuracy(정확도)\n",
    "        * 전체 샘플 중 맞게 예측한 샘플 수의 비율\n",
    "    - Recall(재현율)\n",
    "        * 양성 샘플을 양성으로 맞춘 비율과 양성을 음성으로 잘못 예측한 비율\n",
    "        * 실제 음성을 양성으로 잘못 맞춰도 재현율은 떨어지지 않는다\n",
    "    - Precision(정밀도)\n",
    "        * 양성이라고 예측한 값의 비례하는 실제 값이 양성인 비율\n",
    "        * 음성을 양성으로 잘못 판단하면 정밀도는 떨어진다\n",
    "    - F1 - score\n",
    "        * Reacll과 Precision의 조화평균"
   ]
  },
  {
   "cell_type": "markdown",
   "id": "064084bb",
   "metadata": {},
   "source": [
    "* 평가 지표 선택\n",
    "* Accuracy(정확도) : label 값이 균등할 경우\n",
    "* F1-score : label값이 불 균등할 경우"
   ]
  },
  {
   "cell_type": "markdown",
   "id": "73fdfd0b",
   "metadata": {},
   "source": [
    "* accuracy(정확도)"
   ]
  },
  {
   "cell_type": "code",
   "execution_count": 1,
   "id": "a34a3aa9",
   "metadata": {},
   "outputs": [],
   "source": [
    "y_test = [0,1,1,0,0,0,1,1,1,1] #실제 정답\n",
    "y_pred = [1,0,0,0,0,0,1,1,1,1]  #예측 정답"
   ]
  },
  {
   "cell_type": "code",
   "execution_count": 2,
   "id": "e1650d15",
   "metadata": {},
   "outputs": [
    {
     "data": {
      "text/plain": [
       "0.7"
      ]
     },
     "execution_count": 2,
     "metadata": {},
     "output_type": "execute_result"
    }
   ],
   "source": [
    "from sklearn.metrics import accuracy_score\n",
    "accuracy_score(y_test,y_pred)"
   ]
  },
  {
   "cell_type": "markdown",
   "id": "e0b142cb",
   "metadata": {},
   "source": [
    "* 1:암,0:정상"
   ]
  },
  {
   "cell_type": "code",
   "execution_count": 3,
   "id": "b345e913",
   "metadata": {},
   "outputs": [],
   "source": [
    "y_test = [1,1,0,1,1,1,1,1,1,1] #실제 정답\n",
    "y_pred = [0,1,1,1,1,1,1,1,1,1] #예측 정답"
   ]
  },
  {
   "cell_type": "code",
   "execution_count": 4,
   "id": "e500e083",
   "metadata": {},
   "outputs": [
    {
     "data": {
      "text/plain": [
       "0.8"
      ]
     },
     "execution_count": 4,
     "metadata": {},
     "output_type": "execute_result"
    }
   ],
   "source": [
    "accuracy_score(y_test,y_pred)"
   ]
  },
  {
   "cell_type": "markdown",
   "id": "35a572bb",
   "metadata": {},
   "source": [
    "#### 재현율(recall)\n",
    "* 양성(1)이 중요한 경우"
   ]
  },
  {
   "cell_type": "code",
   "execution_count": 5,
   "id": "f8f29d80",
   "metadata": {},
   "outputs": [],
   "source": [
    "y_test = [0,0,0,1,1,1,1,1,1,1] #실제 정답\n",
    "y_pred = [1,1,1,1,1,1,1,1,1,1] #예측 정답"
   ]
  },
  {
   "cell_type": "code",
   "execution_count": 6,
   "id": "4f738809",
   "metadata": {},
   "outputs": [
    {
     "data": {
      "text/plain": [
       "1.0"
      ]
     },
     "execution_count": 6,
     "metadata": {},
     "output_type": "execute_result"
    }
   ],
   "source": [
    "from sklearn.metrics import recall_score\n",
    "recall_score(y_test,y_pred)"
   ]
  },
  {
   "cell_type": "code",
   "execution_count": 7,
   "id": "f504e60d",
   "metadata": {},
   "outputs": [],
   "source": [
    "y_test = [1,1,1,1,1,1,1,1,1,1] #실제 정답\n",
    "y_pred = [0,0,0,1,1,1,1,1,1,1] #예측 정답"
   ]
  },
  {
   "cell_type": "code",
   "execution_count": 8,
   "id": "fed4bd39",
   "metadata": {},
   "outputs": [
    {
     "data": {
      "text/plain": [
       "0.7"
      ]
     },
     "execution_count": 8,
     "metadata": {},
     "output_type": "execute_result"
    }
   ],
   "source": [
    "recall_score(y_test,y_pred)"
   ]
  },
  {
   "cell_type": "markdown",
   "id": "b97a783c",
   "metadata": {},
   "source": [
    "* 스팸 : 1, 정상 : 0"
   ]
  },
  {
   "cell_type": "code",
   "execution_count": 9,
   "id": "b820dfce",
   "metadata": {},
   "outputs": [],
   "source": [
    "y_test = [1,1,1,1,1,1,1,1,1,1] #실제 정답\n",
    "y_pred = [0,0,0,1,1,1,1,1,1,1] #예측 정답"
   ]
  },
  {
   "cell_type": "code",
   "execution_count": 10,
   "id": "7d45f54d",
   "metadata": {},
   "outputs": [
    {
     "data": {
      "text/plain": [
       "0.7"
      ]
     },
     "execution_count": 10,
     "metadata": {},
     "output_type": "execute_result"
    }
   ],
   "source": [
    "recall_score(y_test,y_pred)"
   ]
  },
  {
   "cell_type": "code",
   "execution_count": 11,
   "id": "13fb88a7",
   "metadata": {},
   "outputs": [],
   "source": [
    "y_test = [0,0,0,1,1,1,1,1,1,1] #실제 정답\n",
    "y_pred = [1,1,1,1,1,1,1,1,1,1] #예측 정답"
   ]
  },
  {
   "cell_type": "code",
   "execution_count": 12,
   "id": "8e7e57a9",
   "metadata": {},
   "outputs": [
    {
     "data": {
      "text/plain": [
       "1.0"
      ]
     },
     "execution_count": 12,
     "metadata": {},
     "output_type": "execute_result"
    }
   ],
   "source": [
    "recall_score(y_test,y_pred)"
   ]
  },
  {
   "cell_type": "markdown",
   "id": "7331ce11",
   "metadata": {},
   "source": [
    "* 정밀도(precision)\n",
    "    -실제 음성을 못 맞추는 경우"
   ]
  },
  {
   "cell_type": "code",
   "execution_count": 13,
   "id": "3e17696b",
   "metadata": {},
   "outputs": [],
   "source": [
    "y_test = [1,1,1,1,1,1,1,1,1,1] #실제 정답\n",
    "y_pred = [0,0,0,1,1,1,1,1,1,1] #예측 정답"
   ]
  },
  {
   "cell_type": "code",
   "execution_count": 14,
   "id": "10b9c581",
   "metadata": {},
   "outputs": [
    {
     "data": {
      "text/plain": [
       "1.0"
      ]
     },
     "execution_count": 14,
     "metadata": {},
     "output_type": "execute_result"
    }
   ],
   "source": [
    "from sklearn.metrics import precision_score\n",
    "precision_score(y_test,y_pred)"
   ]
  },
  {
   "cell_type": "code",
   "execution_count": 15,
   "id": "01f4d335",
   "metadata": {},
   "outputs": [],
   "source": [
    "y_test = [0,0,0,1,1,1,1,1,1,1] #실제 정답\n",
    "y_pred = [1,1,1,1,1,1,1,1,1,1] #예측 정답"
   ]
  },
  {
   "cell_type": "code",
   "execution_count": 16,
   "id": "5c1c2697",
   "metadata": {},
   "outputs": [
    {
     "data": {
      "text/plain": [
       "0.7"
      ]
     },
     "execution_count": 16,
     "metadata": {},
     "output_type": "execute_result"
    }
   ],
   "source": [
    "precision_score(y_test,y_pred)"
   ]
  },
  {
   "cell_type": "markdown",
   "id": "30df5108",
   "metadata": {},
   "source": [
    "* f1_score\n",
    "    - 정밀도와 재현율의 조화 평균\n",
    "    - label값이 불균등 할 경우 사용"
   ]
  },
  {
   "cell_type": "code",
   "execution_count": 17,
   "id": "08c95170",
   "metadata": {},
   "outputs": [],
   "source": [
    "y_test = [0,0,1,1,1,1,1,1,1,1] #실제 정답\n",
    "y_pred = [1,1,1,1,1,1,1,1,1,1] #예측 정답"
   ]
  },
  {
   "cell_type": "code",
   "execution_count": 19,
   "id": "9053597a",
   "metadata": {},
   "outputs": [
    {
     "name": "stdout",
     "output_type": "stream",
     "text": [
      "정확도 :  0.8\n",
      "recall :  1.0\n",
      "precision(정밀도) :  0.8\n",
      "f1 :  0.888888888888889\n"
     ]
    }
   ],
   "source": [
    "from sklearn.metrics import f1_score\n",
    "accuracy = accuracy_score(y_test,y_pred)\n",
    "recall = recall_score(y_test,y_pred)\n",
    "precision = precision_score(y_test,y_pred)\n",
    "f1 = f1_score(y_test,y_pred)\n",
    "\n",
    "print(\"정확도 : \" , accuracy)\n",
    "print(\"recall : \", recall)\n",
    "print(\"precision(정밀도) : \" , precision)\n",
    "print(\"f1 : \", f1)"
   ]
  },
  {
   "cell_type": "code",
   "execution_count": null,
   "id": "38078094",
   "metadata": {},
   "outputs": [],
   "source": []
  },
  {
   "cell_type": "code",
   "execution_count": null,
   "id": "16f9245f",
   "metadata": {},
   "outputs": [],
   "source": []
  },
  {
   "cell_type": "code",
   "execution_count": null,
   "id": "ba065215",
   "metadata": {},
   "outputs": [],
   "source": []
  },
  {
   "cell_type": "code",
   "execution_count": null,
   "id": "d9d58bff",
   "metadata": {},
   "outputs": [],
   "source": []
  },
  {
   "cell_type": "code",
   "execution_count": null,
   "id": "7782005d",
   "metadata": {},
   "outputs": [],
   "source": []
  },
  {
   "cell_type": "code",
   "execution_count": null,
   "id": "99cb4970",
   "metadata": {},
   "outputs": [],
   "source": []
  }
 ],
 "metadata": {
  "kernelspec": {
   "display_name": "Python 3 (ipykernel)",
   "language": "python",
   "name": "python3"
  },
  "language_info": {
   "codemirror_mode": {
    "name": "ipython",
    "version": 3
   },
   "file_extension": ".py",
   "mimetype": "text/x-python",
   "name": "python",
   "nbconvert_exporter": "python",
   "pygments_lexer": "ipython3",
   "version": "3.11.4"
  }
 },
 "nbformat": 4,
 "nbformat_minor": 5
}
