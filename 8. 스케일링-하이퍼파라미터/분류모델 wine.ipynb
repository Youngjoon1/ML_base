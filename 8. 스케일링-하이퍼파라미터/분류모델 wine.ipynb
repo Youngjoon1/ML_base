{
 "cells": [
  {
   "cell_type": "code",
   "execution_count": 1,
   "id": "1545a5da",
   "metadata": {},
   "outputs": [
    {
     "data": {
      "text/html": [
       "<div>\n",
       "<style scoped>\n",
       "    .dataframe tbody tr th:only-of-type {\n",
       "        vertical-align: middle;\n",
       "    }\n",
       "\n",
       "    .dataframe tbody tr th {\n",
       "        vertical-align: top;\n",
       "    }\n",
       "\n",
       "    .dataframe thead th {\n",
       "        text-align: right;\n",
       "    }\n",
       "</style>\n",
       "<table border=\"1\" class=\"dataframe\">\n",
       "  <thead>\n",
       "    <tr style=\"text-align: right;\">\n",
       "      <th></th>\n",
       "      <th>alcohol</th>\n",
       "      <th>sugar</th>\n",
       "      <th>pH</th>\n",
       "      <th>class</th>\n",
       "    </tr>\n",
       "  </thead>\n",
       "  <tbody>\n",
       "    <tr>\n",
       "      <th>0</th>\n",
       "      <td>9.4</td>\n",
       "      <td>1.9</td>\n",
       "      <td>3.51</td>\n",
       "      <td>0</td>\n",
       "    </tr>\n",
       "    <tr>\n",
       "      <th>1</th>\n",
       "      <td>9.8</td>\n",
       "      <td>2.6</td>\n",
       "      <td>3.20</td>\n",
       "      <td>0</td>\n",
       "    </tr>\n",
       "    <tr>\n",
       "      <th>2</th>\n",
       "      <td>9.8</td>\n",
       "      <td>2.3</td>\n",
       "      <td>3.26</td>\n",
       "      <td>0</td>\n",
       "    </tr>\n",
       "    <tr>\n",
       "      <th>3</th>\n",
       "      <td>9.8</td>\n",
       "      <td>1.9</td>\n",
       "      <td>3.16</td>\n",
       "      <td>0</td>\n",
       "    </tr>\n",
       "    <tr>\n",
       "      <th>4</th>\n",
       "      <td>9.4</td>\n",
       "      <td>1.9</td>\n",
       "      <td>3.51</td>\n",
       "      <td>0</td>\n",
       "    </tr>\n",
       "    <tr>\n",
       "      <th>...</th>\n",
       "      <td>...</td>\n",
       "      <td>...</td>\n",
       "      <td>...</td>\n",
       "      <td>...</td>\n",
       "    </tr>\n",
       "    <tr>\n",
       "      <th>6492</th>\n",
       "      <td>11.2</td>\n",
       "      <td>1.6</td>\n",
       "      <td>3.27</td>\n",
       "      <td>1</td>\n",
       "    </tr>\n",
       "    <tr>\n",
       "      <th>6493</th>\n",
       "      <td>9.6</td>\n",
       "      <td>8.0</td>\n",
       "      <td>3.15</td>\n",
       "      <td>1</td>\n",
       "    </tr>\n",
       "    <tr>\n",
       "      <th>6494</th>\n",
       "      <td>9.4</td>\n",
       "      <td>1.2</td>\n",
       "      <td>2.99</td>\n",
       "      <td>1</td>\n",
       "    </tr>\n",
       "    <tr>\n",
       "      <th>6495</th>\n",
       "      <td>12.8</td>\n",
       "      <td>1.1</td>\n",
       "      <td>3.34</td>\n",
       "      <td>1</td>\n",
       "    </tr>\n",
       "    <tr>\n",
       "      <th>6496</th>\n",
       "      <td>11.8</td>\n",
       "      <td>0.8</td>\n",
       "      <td>3.26</td>\n",
       "      <td>1</td>\n",
       "    </tr>\n",
       "  </tbody>\n",
       "</table>\n",
       "<p>6497 rows × 4 columns</p>\n",
       "</div>"
      ],
      "text/plain": [
       "      alcohol  sugar    pH  class\n",
       "0         9.4    1.9  3.51      0\n",
       "1         9.8    2.6  3.20      0\n",
       "2         9.8    2.3  3.26      0\n",
       "3         9.8    1.9  3.16      0\n",
       "4         9.4    1.9  3.51      0\n",
       "...       ...    ...   ...    ...\n",
       "6492     11.2    1.6  3.27      1\n",
       "6493      9.6    8.0  3.15      1\n",
       "6494      9.4    1.2  2.99      1\n",
       "6495     12.8    1.1  3.34      1\n",
       "6496     11.8    0.8  3.26      1\n",
       "\n",
       "[6497 rows x 4 columns]"
      ]
     },
     "execution_count": 1,
     "metadata": {},
     "output_type": "execute_result"
    }
   ],
   "source": [
    "import pandas as pd\n",
    "df = pd.read_csv('data/wine-data.csv')\n",
    "df"
   ]
  },
  {
   "cell_type": "code",
   "execution_count": 2,
   "id": "3f03ab07",
   "metadata": {},
   "outputs": [
    {
     "data": {
      "text/plain": [
       "Index(['alcohol', 'sugar', 'pH', 'class'], dtype='object')"
      ]
     },
     "execution_count": 2,
     "metadata": {},
     "output_type": "execute_result"
    }
   ],
   "source": [
    "df.columns"
   ]
  },
  {
   "cell_type": "code",
   "execution_count": 3,
   "id": "97cc95c9",
   "metadata": {},
   "outputs": [
    {
     "data": {
      "text/plain": [
       "(      alcohol  sugar    pH\n",
       " 0         9.4    1.9  3.51\n",
       " 1         9.8    2.6  3.20\n",
       " 2         9.8    2.3  3.26\n",
       " 3         9.8    1.9  3.16\n",
       " 4         9.4    1.9  3.51\n",
       " ...       ...    ...   ...\n",
       " 6492     11.2    1.6  3.27\n",
       " 6493      9.6    8.0  3.15\n",
       " 6494      9.4    1.2  2.99\n",
       " 6495     12.8    1.1  3.34\n",
       " 6496     11.8    0.8  3.26\n",
       " \n",
       " [6497 rows x 3 columns],\n",
       " 0       0\n",
       " 1       0\n",
       " 2       0\n",
       " 3       0\n",
       " 4       0\n",
       "        ..\n",
       " 6492    1\n",
       " 6493    1\n",
       " 6494    1\n",
       " 6495    1\n",
       " 6496    1\n",
       " Name: class, Length: 6497, dtype: int64)"
      ]
     },
     "execution_count": 3,
     "metadata": {},
     "output_type": "execute_result"
    }
   ],
   "source": [
    "features = ['alcohol', 'sugar', 'pH']\n",
    "label= 'class'\n",
    "\n",
    "X = df[features]\n",
    "y = df[label]\n",
    "X,y"
   ]
  },
  {
   "cell_type": "code",
   "execution_count": 6,
   "id": "2c040921",
   "metadata": {},
   "outputs": [],
   "source": [
    "from sklearn.model_selection import train_test_split\n",
    "X_train,X_test,y_train,y_test = train_test_split(X,y,train_size=0.2,random_state=62)"
   ]
  },
  {
   "cell_type": "code",
   "execution_count": 9,
   "id": "ca5176cf",
   "metadata": {},
   "outputs": [
    {
     "name": "stdout",
     "output_type": "stream",
     "text": [
      "0.8883756735950731\n",
      "0.8476337052712581\n"
     ]
    }
   ],
   "source": [
    "from sklearn.neighbors import KNeighborsClassifier\n",
    "knn = KNeighborsClassifier()\n",
    "knn.fit(X_train,y_train)\n",
    "\n",
    "print(knn.score(X_train,y_train))\n",
    "print(knn.score(X_test,y_test))"
   ]
  },
  {
   "cell_type": "code",
   "execution_count": 13,
   "id": "a7e3becb",
   "metadata": {},
   "outputs": [
    {
     "name": "stdout",
     "output_type": "stream",
     "text": [
      "0.8799076212471132\n",
      "0.8447479799923048\n"
     ]
    }
   ],
   "source": [
    "from sklearn.preprocessing import MinMaxScaler\n",
    "\n",
    "minMaxScaler = MinMaxScaler()\n",
    "minMaxScaler.fit(X_train)\n",
    "X_train_minMax = minMaxScaler.transform(X_train)\n",
    "X_test_minMax = minMaxScaler.transform(X_test)\n",
    "\n",
    "knn.fit(X_train_minMax,y_train)\n",
    "\n",
    "print(knn.score(X_train_minMax,y_train))\n",
    "print(knn.score(X_test_minMax,y_test))"
   ]
  },
  {
   "cell_type": "code",
   "execution_count": 16,
   "id": "0673ff1d",
   "metadata": {},
   "outputs": [
    {
     "name": "stdout",
     "output_type": "stream",
     "text": [
      "최적의 하이퍼 파라미터 :  {'metric': 'manhattan', 'n_neighbors': 9, 'weights': 'distance'}\n",
      "0.9984603541185527\n",
      "0.8559061177375914\n"
     ]
    }
   ],
   "source": [
    "from sklearn.model_selection import GridSearchCV\n",
    "\n",
    "params = {\n",
    "    'n_neighbors': range(1,11),\n",
    "    'metric': [\"manhattan\",\"euclidean\"],\n",
    "    'weights':['uniform','distance']\n",
    "}\n",
    "knn = KNeighborsClassifier()\n",
    "\n",
    "grid_cv = GridSearchCV(knn, param_grid= params,cv=3,n_jobs=-1)\n",
    "grid_cv.fit(X_train_minMax,y_train)\n",
    "\n",
    "print(\"최적의 하이퍼 파라미터 : \", grid_cv.best_params_)\n",
    "\n",
    "print(grid_cv.score(X_train_minMax,y_train))\n",
    "print(grid_cv.score(X_test_minMax,y_test))\n"
   ]
  },
  {
   "cell_type": "code",
   "execution_count": 17,
   "id": "307fd850",
   "metadata": {},
   "outputs": [
    {
     "name": "stdout",
     "output_type": "stream",
     "text": [
      "0.775211701308699\n",
      "0.7747210465563679\n"
     ]
    }
   ],
   "source": [
    "from sklearn.svm import SVC\n",
    "svc = SVC(kernel='linear')\n",
    "svc.fit(X_train,y_train)\n",
    "\n",
    "print(svc.score(X_train,y_train))\n",
    "print(svc.score(X_test,y_test))"
   ]
  },
  {
   "cell_type": "code",
   "execution_count": 18,
   "id": "0a63d3e9",
   "metadata": {},
   "outputs": [],
   "source": [
    "from sklearn.preprocessing import StandardScaler\n",
    "scaler = StandardScaler()\n",
    "scaler.fit(X_train)\n",
    "\n",
    "X_train_scaler = scaler.transform(X_train)\n",
    "X_test_sclaer = scaler.transform(X_test)"
   ]
  },
  {
   "cell_type": "code",
   "execution_count": 20,
   "id": "ec80e288",
   "metadata": {},
   "outputs": [
    {
     "name": "stdout",
     "output_type": "stream",
     "text": [
      "0.7798306389530408\n",
      "0.778183916891112\n"
     ]
    }
   ],
   "source": [
    "svc.fit(X_train_scaler,y_train)\n",
    "\n",
    "print(svc.score(X_train_scaler,y_train))\n",
    "print(svc.score(X_test_sclaer,y_test))"
   ]
  },
  {
   "cell_type": "code",
   "execution_count": null,
   "id": "0f06e958",
   "metadata": {},
   "outputs": [],
   "source": [
    "from sklearn.model_selection import GridSearchCV\n",
    "\n",
    "param_range = [ 0.001, 0.01, 0.1, 1.0, 10.0, 100.0]\n",
    "params = "
   ]
  },
  {
   "cell_type": "markdown",
   "id": "7884c03f",
   "metadata": {},
   "source": [
    "### K-최근접 이웃 알고리즘\n",
    "* 주위에서 가장 가까운 다른 데이터를 보고 현재 데이터를 판단\n",
    "\n",
    "#### 하이퍼파라미터\n",
    "* n_neighbors\n",
    "    - 기본 가까운 5개의 데이터를 보고 자기 자신이 어디에 속하는지를 판단\n",
    "    - 비교하고자 하는 데이터의 수가 적을 수록 과대 적합이 된다\n",
    "* metric : 거리계산 척도\n",
    "    - euclidean(녹색) : 유클리디안 거리 측정\n",
    "        * 목표 지점까지 가장 짧은 거리\n",
    "    - manhattan(빨간색) : 맨하튼 거리 측정 방법\n",
    "        * 찾아가는 경로의 모든 길이의 합\n",
    "* weights : 가중치\n",
    "    - uniform : 거리에 가중치 부여하지 않음(균일한 가중치)\n",
    "    - distance : 거리에 가중치 부여(가까이 있는 데이터에 가중치)"
   ]
  },
  {
   "cell_type": "code",
   "execution_count": null,
   "id": "757136bb",
   "metadata": {},
   "outputs": [],
   "source": []
  },
  {
   "cell_type": "code",
   "execution_count": null,
   "id": "cfdc3fa9",
   "metadata": {},
   "outputs": [],
   "source": []
  },
  {
   "cell_type": "code",
   "execution_count": null,
   "id": "ad86fd11",
   "metadata": {},
   "outputs": [],
   "source": []
  },
  {
   "cell_type": "code",
   "execution_count": null,
   "id": "60e8f304",
   "metadata": {},
   "outputs": [],
   "source": []
  },
  {
   "cell_type": "code",
   "execution_count": null,
   "id": "bea2e9c2",
   "metadata": {},
   "outputs": [],
   "source": []
  },
  {
   "cell_type": "code",
   "execution_count": null,
   "id": "cfe014ae",
   "metadata": {},
   "outputs": [],
   "source": []
  },
  {
   "cell_type": "code",
   "execution_count": null,
   "id": "b61ec092",
   "metadata": {},
   "outputs": [],
   "source": []
  },
  {
   "cell_type": "code",
   "execution_count": null,
   "id": "fab679a0",
   "metadata": {},
   "outputs": [],
   "source": []
  },
  {
   "cell_type": "code",
   "execution_count": null,
   "id": "57b2c3be",
   "metadata": {},
   "outputs": [],
   "source": []
  },
  {
   "cell_type": "code",
   "execution_count": null,
   "id": "1fde9652",
   "metadata": {},
   "outputs": [],
   "source": []
  },
  {
   "cell_type": "code",
   "execution_count": null,
   "id": "12002ec6",
   "metadata": {},
   "outputs": [],
   "source": []
  },
  {
   "cell_type": "code",
   "execution_count": null,
   "id": "671433c6",
   "metadata": {},
   "outputs": [],
   "source": []
  },
  {
   "cell_type": "code",
   "execution_count": null,
   "id": "1f61abe1",
   "metadata": {},
   "outputs": [],
   "source": []
  },
  {
   "cell_type": "code",
   "execution_count": null,
   "id": "e11dd26c",
   "metadata": {},
   "outputs": [],
   "source": []
  },
  {
   "cell_type": "code",
   "execution_count": null,
   "id": "55929f34",
   "metadata": {},
   "outputs": [],
   "source": []
  },
  {
   "cell_type": "code",
   "execution_count": null,
   "id": "17414d48",
   "metadata": {},
   "outputs": [],
   "source": []
  },
  {
   "cell_type": "code",
   "execution_count": null,
   "id": "3c04f607",
   "metadata": {},
   "outputs": [],
   "source": []
  },
  {
   "cell_type": "code",
   "execution_count": null,
   "id": "ea761f53",
   "metadata": {},
   "outputs": [],
   "source": []
  }
 ],
 "metadata": {
  "kernelspec": {
   "display_name": "Python 3 (ipykernel)",
   "language": "python",
   "name": "python3"
  },
  "language_info": {
   "codemirror_mode": {
    "name": "ipython",
    "version": 3
   },
   "file_extension": ".py",
   "mimetype": "text/x-python",
   "name": "python",
   "nbconvert_exporter": "python",
   "pygments_lexer": "ipython3",
   "version": "3.11.4"
  }
 },
 "nbformat": 4,
 "nbformat_minor": 5
}
